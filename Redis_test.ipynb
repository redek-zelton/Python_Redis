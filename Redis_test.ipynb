{
 "cells": [
  {
   "cell_type": "code",
   "execution_count": 1,
   "metadata": {},
   "outputs": [
    {
     "name": "stdout",
     "output_type": "stream",
     "text": [
      "Requirement already satisfied: redis in c:\\users\\antoi\\anaconda3\\lib\\site-packages (3.5.3)\n"
     ]
    }
   ],
   "source": [
    "!pip install redis"
   ]
  },
  {
   "cell_type": "code",
   "execution_count": 2,
   "metadata": {
    "scrolled": true
   },
   "outputs": [
    {
     "name": "stdout",
     "output_type": "stream",
     "text": [
      "Unable to connect or execute commands on Redis server: Error 11001 connecting to support-redis.dev.anaconda.com:6379. getaddrinfo failed.\n",
      "None\n"
     ]
    }
   ],
   "source": [
    "# Import the library\n",
    "import redis\n",
    "\n",
    "\n",
    "queried_value = None\n",
    "try:\n",
    "    # Generate the connection\n",
    "    r = redis.Redis(host='support-redis.dev.anaconda.com', port=6379)\n",
    "\n",
    "    # Set and retrieve the same key\n",
    "    r.set('test_key', 'This is a test value for showing redis connectivity')\n",
    "    queried_value = r.get('test_key')\n",
    "except Exception as e:\n",
    "    print(f'Unable to connect or execute commands on Redis server: {e}')\n",
    "\n",
    "# Print out queried value\n",
    "print(queried_value)"
   ]
  },
  {
   "cell_type": "code",
   "execution_count": 4,
   "metadata": {},
   "outputs": [],
   "source": [
    "import redis\n",
    "r = redis.Redis(host='localhost', port=6379, db=0)\n",
    "#r.set('foo', 'bar')"
   ]
  },
  {
   "cell_type": "code",
   "execution_count": 5,
   "metadata": {},
   "outputs": [
    {
     "data": {
      "text/plain": [
       "Redis<ConnectionPool<Connection<host=localhost,port=6379,db=0>>>"
      ]
     },
     "execution_count": 5,
     "metadata": {},
     "output_type": "execute_result"
    }
   ],
   "source": [
    "r"
   ]
  },
  {
   "cell_type": "code",
   "execution_count": 6,
   "metadata": {},
   "outputs": [],
   "source": [
    "import random as rd\n",
    "import string"
   ]
  },
  {
   "cell_type": "code",
   "execution_count": 7,
   "metadata": {},
   "outputs": [
    {
     "name": "stderr",
     "output_type": "stream",
     "text": [
      "C:\\Users\\antoi\\Anaconda3\\lib\\site-packages\\ipykernel_launcher.py:17: DeprecationWarning: Redis.hmset() is deprecated. Use Redis.hset() instead.\n",
      "C:\\Users\\antoi\\Anaconda3\\lib\\site-packages\\ipykernel_launcher.py:18: DeprecationWarning: Redis.hmset() is deprecated. Use Redis.hset() instead.\n"
     ]
    }
   ],
   "source": [
    "Liste_id=[]\n",
    "Liste_re=[]\n",
    "for i in range(10):\n",
    "    nom = ''.join(rd.choice(string.ascii_letters) for x in range(6))\n",
    "    age = rd.randint(20,60)\n",
    "    location =  ''.join(rd.choice(string.ascii_letters) for x in range(10))\n",
    "    gender = rd.choice([\"M\",\"F\"])\n",
    "    email = nom+\"@e.com\"\n",
    "    Cp = rd.randint(10000,99999)\n",
    "    \n",
    "    nom_id=nom+'_id'\n",
    "    nom_ami=nom+'_ami'\n",
    "    \n",
    "    info_id = {'nom': nom,\"age\": age, \"location\":location,'gender':gender,'e-mail':email,'Cp':Cp}\n",
    "    info_ami={'ami':\"\",'send':\"\",'rece':\"\",'non':\"\"}\n",
    "\n",
    "    r.hmset(nom_id, info_id)\n",
    "    r.hmset(nom_ami,info_ami)\n",
    "    Liste_id.append(nom_id)\n",
    "    Liste_re.append(nom_ami)"
   ]
  },
  {
   "cell_type": "code",
   "execution_count": 8,
   "metadata": {},
   "outputs": [],
   "source": [
    "def create_account():\n",
    "    nom=input(\"Donner le nom : \")\n",
    "    age=eval(input(\"Donner l'age : \"))\n",
    "    location=input(\"Donner la location : \")\n",
    "    gender=input(\"M ou F : \")\n",
    "    email=input(\"email : \")\n",
    "    Cp=eval(input(\"Code Postal : \"))\n",
    "    \n",
    "    nom_id=nom+'_id'\n",
    "    nom_ami=nom+'_ami'\n",
    "    \n",
    "    info_id = {'nom': nom,\"age\": age, \"location\":location,'gender':gender,'e-mail':email,'Cp':Cp}\n",
    "    info_ami={'ami':\"\",'send':\"\",'rece':\"\",'non':\"\"}\n",
    "    \n",
    "    r.hmset(nom_id, info_id)\n",
    "    r.hmset(nom_ami,info_ami)\n",
    "    \n",
    "    return None"
   ]
  },
  {
   "cell_type": "code",
   "execution_count": 9,
   "metadata": {},
   "outputs": [
    {
     "name": "stdout",
     "output_type": "stream",
     "text": [
      "[b'KKRuZj', b'40', b'mUzPSCxyrO', b'F', b'KKRuZj@e.com', b'76332']\n",
      "[b'sYHsSX', b'57', b'UpZqHhQdUh', b'F', b'sYHsSX@e.com', b'13406']\n",
      "[b'NXXLnR', b'52', b'IguSywKZAf', b'M', b'NXXLnR@e.com', b'56611']\n",
      "[b'numGCK', b'41', b'qzHyscSLvg', b'M', b'numGCK@e.com', b'45752']\n",
      "[b'lZcpHJ', b'20', b'HLopSiaVUn', b'F', b'lZcpHJ@e.com', b'79603']\n",
      "[b'kdgYdI', b'28', b'yVKNwsMuQf', b'F', b'kdgYdI@e.com', b'98250']\n",
      "[b'StRhTC', b'37', b'ugOUHtXuNl', b'M', b'StRhTC@e.com', b'27662']\n",
      "[b'pAlDjO', b'38', b'MrbvSxNKlD', b'F', b'pAlDjO@e.com', b'41458']\n",
      "[b'jchiyZ', b'39', b'PKtpQFewZg', b'M', b'jchiyZ@e.com', b'35392']\n",
      "[b'MAOyfW', b'29', b'FwxLDLdlvG', b'M', b'MAOyfW@e.com', b'85588']\n"
     ]
    }
   ],
   "source": [
    "for i in Liste_id:\n",
    "    print(r.hmget(i,'nom','age','location','gender','e-mail','Cp'))"
   ]
  },
  {
   "cell_type": "code",
   "execution_count": 10,
   "metadata": {},
   "outputs": [
    {
     "name": "stdout",
     "output_type": "stream",
     "text": [
      "[b'', b'', b'', b'']\n",
      "[b'', b'', b'', b'']\n",
      "[b'', b'', b'', b'']\n",
      "[b'', b'', b'', b'']\n",
      "[b'', b'', b'', b'']\n",
      "[b'', b'', b'', b'']\n",
      "[b'', b'', b'', b'']\n",
      "[b'', b'', b'', b'']\n",
      "[b'', b'', b'', b'']\n",
      "[b'', b'', b'', b'']\n"
     ]
    }
   ],
   "source": [
    "for i in Liste_re:\n",
    "    print(r.hmget(i,'ami','send','rece','non'))"
   ]
  },
  {
   "cell_type": "code",
   "execution_count": 11,
   "metadata": {},
   "outputs": [],
   "source": [
    "def get(key):\n",
    "    return r.hmget(key,'ami','send','rece','non')\n",
    "\n",
    "def rechange(key,ami,send,rece,non):\n",
    "    info={'ami':ami,'send':send,'rece':rece,'non':non}\n",
    "    r.hmset(key,info)\n",
    "    return None"
   ]
  },
  {
   "cell_type": "code",
   "execution_count": 12,
   "metadata": {},
   "outputs": [],
   "source": [
    "def add_friend(sender,receiver):\n",
    "    sender_ami = sender+'_ami'\n",
    "    receiver_ami = receiver+'_ami'\n",
    "    send = r.hmget(sender_ami,'send')[0].decode()\n",
    "    rece = r.hmget(receiver_ami,'rece')[0].decode()\n",
    "    \n",
    "    send += \",\"+receiver\n",
    "    rece += \",\"+sender\n",
    "    \n",
    "    S = get(sender_ami)\n",
    "    R = get(receiver_ami)\n",
    "    \n",
    "    rechange(sender_ami,S[0].decode(),send,S[2].decode(),S[3].decode())\n",
    "    rechange(receiver_ami,R[0].decode(),R[1].decode(),rece,R[3].decode())\n",
    "    return None"
   ]
  },
  {
   "cell_type": "code",
   "execution_count": 13,
   "metadata": {},
   "outputs": [
    {
     "name": "stderr",
     "output_type": "stream",
     "text": [
      "C:\\Users\\antoi\\Anaconda3\\lib\\site-packages\\ipykernel_launcher.py:6: DeprecationWarning: Redis.hmset() is deprecated. Use Redis.hset() instead.\n",
      "  \n"
     ]
    }
   ],
   "source": [
    "add_friend('hmhyAn','FLAOdZ')"
   ]
  },
  {
   "cell_type": "code",
   "execution_count": 14,
   "metadata": {},
   "outputs": [
    {
     "data": {
      "text/plain": [
       "[b',FLAOdZ', b',_ami,,FLAOdZ', b'', b'']"
      ]
     },
     "execution_count": 14,
     "metadata": {},
     "output_type": "execute_result"
    }
   ],
   "source": [
    "get('hmhyAn_ami')"
   ]
  },
  {
   "cell_type": "code",
   "execution_count": 15,
   "metadata": {},
   "outputs": [
    {
     "data": {
      "text/plain": [
       "[b',hmhyAn', b'', b',_ami,,hmhyAn', b'']"
      ]
     },
     "execution_count": 15,
     "metadata": {},
     "output_type": "execute_result"
    }
   ],
   "source": [
    "get('FLAOdZ_ami')"
   ]
  },
  {
   "cell_type": "code",
   "execution_count": 16,
   "metadata": {},
   "outputs": [],
   "source": [
    "def accepting_friend(personne,friend):\n",
    "    personne_ami =personne+'_ami'\n",
    "    friend_ami = friend+ '_ami'\n",
    "    \n",
    "    rece_p = r.hmget(personne_ami,'rece')[0].decode()\n",
    "    ami_p = r.hmget(personne_ami,'ami')[0].decode()\n",
    "    send_f = r.hmget(friend_ami,'send')[0].decode()\n",
    "    ami_f = r.hmget(friend_ami,'ami')[0].decode()\n",
    "    \n",
    "    rece_p = rece_p.replace(friend,'')\n",
    "    send_f = send_f.replace(personne,'')\n",
    "    \n",
    "    \n",
    "    ami_p += \",\"+friend\n",
    "    ami_f += \",\"+personne\n",
    "    \n",
    "    P = get(personne_ami)\n",
    "    F = get(friend_ami)\n",
    "    \n",
    "    rechange(personne_ami,ami_p,P[1].decode(),rece_p,P[3].decode())\n",
    "    rechange(friend_ami,ami_f,send_f,F[2].decode(),F[3].decode())\n",
    "    return None\n",
    "    "
   ]
  },
  {
   "cell_type": "code",
   "execution_count": 17,
   "metadata": {},
   "outputs": [
    {
     "name": "stderr",
     "output_type": "stream",
     "text": [
      "C:\\Users\\antoi\\Anaconda3\\lib\\site-packages\\ipykernel_launcher.py:6: DeprecationWarning: Redis.hmset() is deprecated. Use Redis.hset() instead.\n",
      "  \n"
     ]
    }
   ],
   "source": [
    "accepting_friend('FLAOdZ','hmhyAn')"
   ]
  },
  {
   "cell_type": "code",
   "execution_count": 19,
   "metadata": {},
   "outputs": [
    {
     "data": {
      "text/plain": [
       "[b',FLAOdZ,FLAOdZ', b',_ami,,', b'', b'']"
      ]
     },
     "execution_count": 19,
     "metadata": {},
     "output_type": "execute_result"
    }
   ],
   "source": [
    "get('hmhyAn_ami')"
   ]
  },
  {
   "cell_type": "code",
   "execution_count": 21,
   "metadata": {},
   "outputs": [
    {
     "data": {
      "text/plain": [
       "[b',hmhyAn,hmhyAn', b'', b',_ami,,', b'']"
      ]
     },
     "execution_count": 21,
     "metadata": {},
     "output_type": "execute_result"
    }
   ],
   "source": [
    "get('FLAOdZ_ami')"
   ]
  },
  {
   "cell_type": "code",
   "execution_count": 22,
   "metadata": {},
   "outputs": [],
   "source": [
    "def Unfriend(personne,unfriend):\n",
    "    personne_ami=personne+'_ami'\n",
    "    unf_p=r.hmget(personne_ami,'non')[0].decode()\n",
    "    unf_p+=\",\"+str(unfriend)\n",
    "    \n",
    "    P = get(personne_ami)\n",
    "    \n",
    "    rechange(personne_ami,P[0].decode(),P[1].decode(),P[2].decode(),unf_p)\n",
    "    return None"
   ]
  },
  {
   "cell_type": "code",
   "execution_count": 24,
   "metadata": {},
   "outputs": [
    {
     "name": "stderr",
     "output_type": "stream",
     "text": [
      "C:\\Users\\antoi\\Anaconda3\\lib\\site-packages\\ipykernel_launcher.py:6: DeprecationWarning: Redis.hmset() is deprecated. Use Redis.hset() instead.\n",
      "  \n"
     ]
    }
   ],
   "source": [
    "Unfriend('hmhyAn',234)"
   ]
  },
  {
   "cell_type": "code",
   "execution_count": 25,
   "metadata": {},
   "outputs": [
    {
     "data": {
      "text/plain": [
       "[b',FLAOdZ,FLAOdZ', b',_ami,,', b'', b',10,234']"
      ]
     },
     "execution_count": 25,
     "metadata": {},
     "output_type": "execute_result"
    }
   ],
   "source": [
    "get('hmhyAn_ami')"
   ]
  },
  {
   "cell_type": "code",
   "execution_count": 26,
   "metadata": {},
   "outputs": [
    {
     "data": {
      "text/plain": [
       "[b',hmhyAn,hmhyAn', b'', b',_ami,,', b'']"
      ]
     },
     "execution_count": 26,
     "metadata": {},
     "output_type": "execute_result"
    }
   ],
   "source": [
    "get('FLAOdZ_ami')"
   ]
  },
  {
   "cell_type": "markdown",
   "metadata": {},
   "source": [
    "# Post"
   ]
  },
  {
   "cell_type": "code",
   "execution_count": 27,
   "metadata": {},
   "outputs": [],
   "source": [
    "def Create_post(personne):\n",
    "    personne_post=personne+'_post'\n",
    "    title=input(\"mettre un titre : \")\n",
    "    topic=input(\"mettre un topic : \")\n",
    "    info_post={'title':title,'topic':topic,'comment':\"\"}\n",
    "    r.hmset(personne_post,info_post)\n",
    "    "
   ]
  },
  {
   "cell_type": "code",
   "execution_count": 28,
   "metadata": {},
   "outputs": [],
   "source": [
    "def get_post(key):\n",
    "    return r.hmget(key,'title','topic','comment')\n",
    "\n",
    "def recharge_post(key,title,topic,comment):\n",
    "    info_post={'title':title,'topic':topic,'comment':comment}\n",
    "    r.hmset(key,info_post)"
   ]
  },
  {
   "cell_type": "code",
   "execution_count": 29,
   "metadata": {},
   "outputs": [
    {
     "name": "stdout",
     "output_type": "stream",
     "text": [
      "mettre un titre : YGU\n",
      "mettre un topic : UFGUGOI\n"
     ]
    },
    {
     "name": "stderr",
     "output_type": "stream",
     "text": [
      "C:\\Users\\antoi\\Anaconda3\\lib\\site-packages\\ipykernel_launcher.py:6: DeprecationWarning: Redis.hmset() is deprecated. Use Redis.hset() instead.\n",
      "  \n"
     ]
    }
   ],
   "source": [
    "Create_post('halis')"
   ]
  },
  {
   "cell_type": "code",
   "execution_count": 30,
   "metadata": {},
   "outputs": [
    {
     "data": {
      "text/plain": [
       "[b'YGU', b'UFGUGOI', b'']"
      ]
     },
     "execution_count": 30,
     "metadata": {},
     "output_type": "execute_result"
    }
   ],
   "source": [
    "r.hmget('halis_post','title','topic','comment')"
   ]
  },
  {
   "cell_type": "code",
   "execution_count": 31,
   "metadata": {},
   "outputs": [],
   "source": [
    "def Modif_post(personne):\n",
    "    personne_post=personne+'_post'\n",
    "    topic=input(\"mettre un topic : \")\n",
    "    \n",
    "    P = get_post(personne_post)\n",
    "    recharge_post(personne_post,P[0].decode(),topic,P[2].decode())\n",
    "    return None"
   ]
  },
  {
   "cell_type": "code",
   "execution_count": 32,
   "metadata": {},
   "outputs": [
    {
     "name": "stdout",
     "output_type": "stream",
     "text": [
      "mettre un topic : 111111111111111111111111\n"
     ]
    },
    {
     "name": "stderr",
     "output_type": "stream",
     "text": [
      "C:\\Users\\antoi\\Anaconda3\\lib\\site-packages\\ipykernel_launcher.py:6: DeprecationWarning: Redis.hmset() is deprecated. Use Redis.hset() instead.\n",
      "  \n"
     ]
    }
   ],
   "source": [
    "Modif_post('halis')"
   ]
  },
  {
   "cell_type": "code",
   "execution_count": 33,
   "metadata": {},
   "outputs": [
    {
     "data": {
      "text/plain": [
       "[b'YGU', b'111111111111111111111111', b'']"
      ]
     },
     "execution_count": 33,
     "metadata": {},
     "output_type": "execute_result"
    }
   ],
   "source": [
    "r.hmget('halis_post','title','topic','comment')"
   ]
  },
  {
   "cell_type": "code",
   "execution_count": 34,
   "metadata": {},
   "outputs": [],
   "source": [
    "def Comment_post(postmaster,commenter):\n",
    "    postmaster_post = postmaster+'_post'\n",
    "    commenter_post = commenter+'_post'\n",
    "    \n",
    "    commentaire = input('Mettre un commentaire : ')\n",
    "    commentaire = commentaire+' ['+commenter+']'\n",
    "    \n",
    "    P = get_post(postmaster_post)\n",
    "    Commentaires = P[2].decode()+'\\n'+commentaire\n",
    "    \n",
    "    recharge_post(postmaster_post,P[0].decode(),P[1].decode(),Commentaires)\n",
    "    return None"
   ]
  },
  {
   "cell_type": "code",
   "execution_count": 35,
   "metadata": {},
   "outputs": [
    {
     "name": "stdout",
     "output_type": "stream",
     "text": [
      "Mettre un commentaire : 2222222222222222222222222222\n"
     ]
    },
    {
     "name": "stderr",
     "output_type": "stream",
     "text": [
      "C:\\Users\\antoi\\Anaconda3\\lib\\site-packages\\ipykernel_launcher.py:6: DeprecationWarning: Redis.hmset() is deprecated. Use Redis.hset() instead.\n",
      "  \n"
     ]
    }
   ],
   "source": [
    "Comment_post('halis','flo')"
   ]
  },
  {
   "cell_type": "code",
   "execution_count": 36,
   "metadata": {},
   "outputs": [
    {
     "data": {
      "text/plain": [
       "[b'YGU', b'111111111111111111111111', b'\\n2222222222222222222222222222 [flo]']"
      ]
     },
     "execution_count": 36,
     "metadata": {},
     "output_type": "execute_result"
    }
   ],
   "source": [
    "r.hmget('halis_post','title','topic','comment')"
   ]
  },
  {
   "cell_type": "markdown",
   "metadata": {},
   "source": [
    "# Test"
   ]
  },
  {
   "cell_type": "code",
   "execution_count": 52,
   "metadata": {},
   "outputs": [],
   "source": [
    "L=[\"demande ami\",\"accepter ami\",\"virer\",\"poster\",\"commenter\",\"modifier son post\",'ses infos','voir post qui?',\"exit\"]\n",
    "L_chiffre=[0,1,2,3,4,5,6,7,8]"
   ]
  },
  {
   "cell_type": "code",
   "execution_count": 56,
   "metadata": {},
   "outputs": [],
   "source": [
    "def entrer():\n",
    "    nom=\"\"\n",
    "    nom_ami=\"\"\n",
    "    nom_post=\"\"\n",
    "    e=0\n",
    "    Si=int(input(\"compte ? [0 ou 1]: \"))\n",
    "    if Si == 1:\n",
    "        nom=input(\"donner le nom\")\n",
    "        nom_ami=nom+'_ami'\n",
    "        nom_post=nom+'_post'\n",
    "        while e !=8:\n",
    "            for i in L_chiffre:\n",
    "                print(L[i])\n",
    "            e=int(input(\"chiffre ? : \"))\n",
    "            if e == 0:\n",
    "                friend=input(\"ami ? : \")\n",
    "                add_friend(nom,friend)\n",
    "            if e == 1:\n",
    "                friend=input(\"ami ? : \")\n",
    "                accepting_friend(nom,friend)\n",
    "            if e == 2:\n",
    "                unfriend=input(\" non ami ? : \")\n",
    "                Unfriend(nom,unfriend)\n",
    "            if e == 3:\n",
    "                Create_post(nom)\n",
    "            if e == 4:\n",
    "                postmaster=input('commenter qui ? : ')\n",
    "                Comment_post(postmaster,nom)\n",
    "            if e == 5:\n",
    "                Modif_post(nom)\n",
    "            if e == 6:\n",
    "                print(r.hmget(nom,'nom','age','location','gender','e-mail','Cp'))\n",
    "                print(r.hmget(nom_ami,'ami','send','rece','non'))\n",
    "                print(r.hmget(nom_post,'title','topic','comment'))\n",
    "            if e == 7:\n",
    "                postmaster=input('voir post qui ? : ')\n",
    "                postmaster=postmaster+'_post'\n",
    "                print(r.hmget(postmaster,'title','topic','comment'))\n",
    "            if e == 8:\n",
    "                break\n",
    "    else:\n",
    "        create_account()"
   ]
  },
  {
   "cell_type": "code",
   "execution_count": 58,
   "metadata": {},
   "outputs": [
    {
     "name": "stdout",
     "output_type": "stream",
     "text": [
      "compte ? [0 ou 1]: 1\n",
      "donner le nomPaul\n",
      "demande ami\n",
      "accepter ami\n",
      "virer\n",
      "poster\n",
      "commenter\n",
      "modifier son post\n",
      "ses infos\n",
      "voir post qui?\n",
      "exit\n",
      "chiffre ? : 1\n",
      "ami ? : Luc\n"
     ]
    },
    {
     "name": "stderr",
     "output_type": "stream",
     "text": [
      "C:\\Users\\antoi\\Anaconda3\\lib\\site-packages\\ipykernel_launcher.py:6: DeprecationWarning: Redis.hmset() is deprecated. Use Redis.hset() instead.\n",
      "  \n"
     ]
    },
    {
     "name": "stdout",
     "output_type": "stream",
     "text": [
      "demande ami\n",
      "accepter ami\n",
      "virer\n",
      "poster\n",
      "commenter\n",
      "modifier son post\n",
      "ses infos\n",
      "voir post qui?\n",
      "exit\n",
      "chiffre ? : 0\n",
      "ami ? : Luc\n",
      "demande ami\n",
      "accepter ami\n",
      "virer\n",
      "poster\n",
      "commenter\n",
      "modifier son post\n",
      "ses infos\n",
      "voir post qui?\n",
      "exit\n",
      "chiffre ? : 6\n",
      "[None, None, None, None, None, None]\n",
      "[b',Luc', b',Luc', b'', b'']\n",
      "[None, None, None]\n",
      "demande ami\n",
      "accepter ami\n",
      "virer\n",
      "poster\n",
      "commenter\n",
      "modifier son post\n",
      "ses infos\n",
      "voir post qui?\n",
      "exit\n",
      "chiffre ? : 3\n",
      "mettre un titre : HMGET\n",
      "mettre un topic : IJ32MONC2M\n",
      "demande ami\n",
      "accepter ami\n",
      "virer\n",
      "poster\n",
      "commenter\n",
      "modifier son post\n",
      "ses infos\n",
      "voir post qui?\n",
      "exit\n",
      "chiffre ? : 2\n",
      " non ami ? : OIAEJMOAZ\n",
      "demande ami\n",
      "accepter ami\n",
      "virer\n",
      "poster\n",
      "commenter\n",
      "modifier son post\n",
      "ses infos\n",
      "voir post qui?\n",
      "exit\n",
      "chiffre ? : 4\n",
      "commenter qui ? : Paul\n",
      "Mettre un commentaire : LAIEVHLIEFAIONFMLE?M\n",
      "demande ami\n",
      "accepter ami\n",
      "virer\n",
      "poster\n",
      "commenter\n",
      "modifier son post\n",
      "ses infos\n",
      "voir post qui?\n",
      "exit\n",
      "chiffre ? : 5\n",
      "mettre un topic : KDOJM3AOZCNMNCJAN?EMFN?\n",
      "demande ami\n",
      "accepter ami\n",
      "virer\n",
      "poster\n",
      "commenter\n",
      "modifier son post\n",
      "ses infos\n",
      "voir post qui?\n",
      "exit\n",
      "chiffre ? : 6\n",
      "[None, None, None, None, None, None]\n",
      "[b',Luc', b',Luc', b'', b',OIAEJMOAZ']\n",
      "[b'HMGET', b'KDOJM3AOZCNMNCJAN?EMFN?', b'\\nLAIEVHLIEFAIONFMLE?M [Paul]']\n",
      "demande ami\n",
      "accepter ami\n",
      "virer\n",
      "poster\n",
      "commenter\n",
      "modifier son post\n",
      "ses infos\n",
      "voir post qui?\n",
      "exit\n",
      "chiffre ? : 5\n",
      "mettre un topic : LMZ?AZM?FAM3\n",
      "demande ami\n",
      "accepter ami\n",
      "virer\n",
      "poster\n",
      "commenter\n",
      "modifier son post\n",
      "ses infos\n",
      "voir post qui?\n",
      "exit\n",
      "chiffre ? : 4\n",
      "commenter qui ? : Paul\n",
      "Mettre un commentaire : OPJMO4NMONF2M4NMO2FM\n",
      "demande ami\n",
      "accepter ami\n",
      "virer\n",
      "poster\n",
      "commenter\n",
      "modifier son post\n",
      "ses infos\n",
      "voir post qui?\n",
      "exit\n",
      "chiffre ? : 7\n",
      "voir post qui ? : halis\n",
      "[b'NKMN', b'jcsqmocz', b'\\n,ojopnpxnONOM?NML [flo]']\n",
      "demande ami\n",
      "accepter ami\n",
      "virer\n",
      "poster\n",
      "commenter\n",
      "modifier son post\n",
      "ses infos\n",
      "voir post qui?\n",
      "exit\n",
      "chiffre ? : 8\n"
     ]
    }
   ],
   "source": [
    "entrer()"
   ]
  },
  {
   "cell_type": "code",
   "execution_count": 59,
   "metadata": {},
   "outputs": [
    {
     "name": "stdout",
     "output_type": "stream",
     "text": [
      "compte ? [0 ou 1]: 1\n",
      "donner le nomLuc\n",
      "demande ami\n",
      "accepter ami\n",
      "virer\n",
      "poster\n",
      "commenter\n",
      "modifier son post\n",
      "ses infos\n",
      "voir post qui?\n",
      "exit\n",
      "chiffre ? : 6\n",
      "[None, None, None, None, None, None]\n",
      "[b',Paul', b'', b',Paul', b'']\n",
      "[None, None, None]\n",
      "demande ami\n",
      "accepter ami\n",
      "virer\n",
      "poster\n",
      "commenter\n",
      "modifier son post\n",
      "ses infos\n",
      "voir post qui?\n",
      "exit\n",
      "chiffre ? : 1\n",
      "ami ? : Paul\n"
     ]
    },
    {
     "name": "stderr",
     "output_type": "stream",
     "text": [
      "C:\\Users\\antoi\\Anaconda3\\lib\\site-packages\\ipykernel_launcher.py:6: DeprecationWarning: Redis.hmset() is deprecated. Use Redis.hset() instead.\n",
      "  \n"
     ]
    },
    {
     "name": "stdout",
     "output_type": "stream",
     "text": [
      "demande ami\n",
      "accepter ami\n",
      "virer\n",
      "poster\n",
      "commenter\n",
      "modifier son post\n",
      "ses infos\n",
      "voir post qui?\n",
      "exit\n",
      "chiffre ? : 6\n",
      "[None, None, None, None, None, None]\n",
      "[b',Paul,Paul', b'', b',', b'']\n",
      "[None, None, None]\n",
      "demande ami\n",
      "accepter ami\n",
      "virer\n",
      "poster\n",
      "commenter\n",
      "modifier son post\n",
      "ses infos\n",
      "voir post qui?\n",
      "exit\n",
      "chiffre ? : 3\n",
      "mettre un titre : EOAJHMFONA\n",
      "mettre un topic : 239J9PPEFCPOANFPZO\n",
      "demande ami\n",
      "accepter ami\n",
      "virer\n",
      "poster\n",
      "commenter\n",
      "modifier son post\n",
      "ses infos\n",
      "voir post qui?\n",
      "exit\n",
      "chiffre ? : 7\n",
      "voir post qui ? : Paul\n",
      "[b'HMGET', b'LMZ?AZM?FAM3', b'\\nLAIEVHLIEFAIONFMLE?M [Paul]\\nOPJMO4NMONF2M4NMO2FM [Paul]']\n",
      "demande ami\n",
      "accepter ami\n",
      "virer\n",
      "poster\n",
      "commenter\n",
      "modifier son post\n",
      "ses infos\n",
      "voir post qui?\n",
      "exit\n",
      "chiffre ? : 4\n",
      "commenter qui ? : Paul\n",
      "Mettre un commentaire : IJ4IL2NFLZNLI3NDAMODM\n",
      "demande ami\n",
      "accepter ami\n",
      "virer\n",
      "poster\n",
      "commenter\n",
      "modifier son post\n",
      "ses infos\n",
      "voir post qui?\n",
      "exit\n",
      "chiffre ? : 7\n",
      "voir post qui ? : Luc\n",
      "[b'EOAJHMFONA', b'239J9PPEFCPOANFPZO', b'']\n",
      "demande ami\n",
      "accepter ami\n",
      "virer\n",
      "poster\n",
      "commenter\n",
      "modifier son post\n",
      "ses infos\n",
      "voir post qui?\n",
      "exit\n",
      "chiffre ? : 7\n",
      "voir post qui ? : Paul\n",
      "[b'HMGET', b'LMZ?AZM?FAM3', b'\\nLAIEVHLIEFAIONFMLE?M [Paul]\\nOPJMO4NMONF2M4NMO2FM [Paul]\\nIJ4IL2NFLZNLI3NDAMODM [Luc]']\n",
      "demande ami\n",
      "accepter ami\n",
      "virer\n",
      "poster\n",
      "commenter\n",
      "modifier son post\n",
      "ses infos\n",
      "voir post qui?\n",
      "exit\n",
      "chiffre ? : 8\n"
     ]
    }
   ],
   "source": [
    "entrer()"
   ]
  },
  {
   "cell_type": "markdown",
   "metadata": {},
   "source": [
    "### "
   ]
  }
 ],
 "metadata": {
  "kernelspec": {
   "display_name": "Python 3",
   "language": "python",
   "name": "python3"
  },
  "language_info": {
   "codemirror_mode": {
    "name": "ipython",
    "version": 3
   },
   "file_extension": ".py",
   "mimetype": "text/x-python",
   "name": "python",
   "nbconvert_exporter": "python",
   "pygments_lexer": "ipython3",
   "version": "3.7.9"
  }
 },
 "nbformat": 4,
 "nbformat_minor": 4
}
